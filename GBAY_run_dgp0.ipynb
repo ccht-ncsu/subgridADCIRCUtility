{
 "cells": [
  {
   "cell_type": "code",
   "execution_count": 1,
   "metadata": {},
   "outputs": [],
   "source": [
    "import sys\n",
    "\n",
    "# add a path to wherever the subgrid calculator script is\n",
    "sys.path.append(r'C:\\Users\\Shintaro Bunya\\OneDrive - University of North Carolina at Chapel Hill\\Documents\\Work\\SGS\\lookuptable\\subgridADCIRCUtility')\n",
    "subgridControlFilename = r'C:\\Users\\Shintaro Bunya\\OneDrive - University of North Carolina at Chapel Hill\\Documents\\Work\\SGS\\lookuptable\\GBAY\\SubgridFiles\\GBAY_control_dgp0.txt'\n",
    "\n",
    "from subgrid_calculator_dgp0 import SubgridCalculatorDGP0 as SC"
   ]
  },
  {
   "cell_type": "code",
   "execution_count": 2,
   "metadata": {},
   "outputs": [],
   "source": [
    "# # now run the calculator\n",
    "# sc = SC(subgridControlFilename)\n",
    "# sc.calculateSubgridCorrectionwGPU()\n",
    "# sc.writeSubgridLookupTableNetCDF()"
   ]
  },
  {
   "cell_type": "code",
   "execution_count": 3,
   "metadata": {},
   "outputs": [],
   "source": [
    "# sc = SC(subgridControlFilename)\n",
    "# sc.readSubgridLookupTableNetCDF()"
   ]
  },
  {
   "cell_type": "code",
   "execution_count": 4,
   "metadata": {},
   "outputs": [],
   "source": [
    "# ve = sc.plot()"
   ]
  },
  {
   "cell_type": "code",
   "execution_count": 5,
   "metadata": {},
   "outputs": [],
   "source": [
    "# sc = SC(subgridControlFilename, GPU=False)\n",
    "# sc.calculateTotWatDepthBasedLookupTable()"
   ]
  },
  {
   "cell_type": "code",
   "execution_count": 6,
   "metadata": {},
   "outputs": [
    {
     "name": "stdout",
     "output_type": "stream",
     "text": [
      "Finished reading DEM 0.\n",
      "Finished Element 1000 of 23653 in DEM 0 took 0.0027987000066787004\n",
      "Finished Element 2000 of 23653 in DEM 0 took 0.0032840000931173563\n",
      "Finished Element 3000 of 23653 in DEM 0 took 0.0031357998959720135\n",
      "Finished Element 4000 of 23653 in DEM 0 took 0.00499559985473752\n",
      "Finished Element 5000 of 23653 in DEM 0 took 0.004878999898210168\n",
      "Finished Element 6000 of 23653 in DEM 0 took 0.007323900004848838\n",
      "Finished Element 7000 of 23653 in DEM 0 took 0.004896300146356225\n",
      "Finished Element 8000 of 23653 in DEM 0 took 0.005473600002005696\n",
      "Finished Element 9000 of 23653 in DEM 0 took 0.007285400060936809\n",
      "Finished Element 10000 of 23653 in DEM 0 took 0.009396599838510156\n",
      "Finished Element 11000 of 23653 in DEM 0 took 0.008575099986046553\n",
      "Finished Element 12000 of 23653 in DEM 0 took 0.011185800191015005\n",
      "Finished Element 13000 of 23653 in DEM 0 took 0.010731399990618229\n",
      "Finished Element 14000 of 23653 in DEM 0 took 0.011587999993935227\n",
      "Finished Element 15000 of 23653 in DEM 0 took 0.0127252999227494\n",
      "Finished Element 16000 of 23653 in DEM 0 took 0.012136799981817603\n",
      "Finished Element 17000 of 23653 in DEM 0 took 0.010029500117525458\n",
      "Finished Element 18000 of 23653 in DEM 0 took 0.011230799835175276\n",
      "Finished Element 19000 of 23653 in DEM 0 took 0.012035999912768602\n",
      "Finished Element 20000 of 23653 in DEM 0 took 0.011133000021800399\n",
      "Finished Element 21000 of 23653 in DEM 0 took 0.012245899997651577\n",
      "Finished Element 22000 of 23653 in DEM 0 took 0.015007699839770794\n",
      "Finished Element 23000 of 23653 in DEM 0 took 0.012775599956512451\n",
      "Sorting...\n",
      "Done.\n"
     ]
    }
   ],
   "source": [
    "# sc = SC(subgridControlFilename, GPU=False)\n",
    "# sc.calculateLookupTableForVectorizedStorage()\n",
    "# sc.writeSubgridLookupTableNetCDFForVectorizedStorage()"
   ]
  },
  {
   "cell_type": "code",
   "execution_count": 10,
   "metadata": {},
   "outputs": [
    {
     "ename": "IndexError",
     "evalue": "elemIndex not found in /",
     "output_type": "error",
     "traceback": [
      "\u001b[1;31m---------------------------------------------------------------------------\u001b[0m",
      "\u001b[1;31mIndexError\u001b[0m                                Traceback (most recent call last)",
      "\u001b[1;32mc:\\Users\\Shintaro Bunya\\OneDrive - University of North Carolina at Chapel Hill\\Documents\\Work\\SGS\\lookuptable\\subgridADCIRCUtility\\GBAY_run_dgp0.ipynb Cell 7\u001b[0m in \u001b[0;36m<cell line: 1>\u001b[1;34m()\u001b[0m\n\u001b[1;32m----> <a href='vscode-notebook-cell:/c%3A/Users/Shintaro%20Bunya/OneDrive%20-%20University%20of%20North%20Carolina%20at%20Chapel%20Hill/Documents/Work/SGS/lookuptable/subgridADCIRCUtility/GBAY_run_dgp0.ipynb#X10sZmlsZQ%3D%3D?line=0'>1</a>\u001b[0m sc\u001b[39m.\u001b[39;49mreadSubgridLookupTableNetCDFForVectorizedStorage()\n",
      "File \u001b[1;32mc:\\Users\\Shintaro Bunya\\OneDrive - University of North Carolina at Chapel Hill\\Documents\\Work\\SGS\\lookuptable\\subgridADCIRCUtility\\subgrid_calculator_dgp0.py:1905\u001b[0m, in \u001b[0;36mSubgridCalculatorDGP0.readSubgridLookupTableNetCDFForVectorizedStorage\u001b[1;34m(self)\u001b[0m\n\u001b[0;32m   1902\u001b[0m lookupTable \u001b[39m=\u001b[39m Dataset(\u001b[39mself\u001b[39m\u001b[39m.\u001b[39mcontrol\u001b[39m.\u001b[39moutputFilename)\n\u001b[0;32m   1904\u001b[0m \u001b[39m# read variables\u001b[39;00m\n\u001b[1;32m-> 1905\u001b[0m \u001b[39mself\u001b[39m\u001b[39m.\u001b[39msubgridvectorized\u001b[39m.\u001b[39melemIndex \u001b[39m=\u001b[39m np\u001b[39m.\u001b[39masarray(lookupTable[\u001b[39m'\u001b[39;49m\u001b[39melemIndex\u001b[39;49m\u001b[39m'\u001b[39;49m][:])\n\u001b[0;32m   1906\u001b[0m \u001b[39mself\u001b[39m\u001b[39m.\u001b[39msubgridvectorized\u001b[39m.\u001b[39msurfaceElevations \u001b[39m=\u001b[39m np\u001b[39m.\u001b[39masarray(lookupTable[\u001b[39m'\u001b[39m\u001b[39msurfaceElevations\u001b[39m\u001b[39m'\u001b[39m][:])\n\u001b[0;32m   1907\u001b[0m \u001b[39mself\u001b[39m\u001b[39m.\u001b[39msubgridvectorized\u001b[39m.\u001b[39mwetFraction \u001b[39m=\u001b[39m np\u001b[39m.\u001b[39masarray(lookupTable[\u001b[39m'\u001b[39m\u001b[39mwetFractionElement\u001b[39m\u001b[39m'\u001b[39m][:])\n",
      "File \u001b[1;32msrc\\netCDF4\\_netCDF4.pyx:2409\u001b[0m, in \u001b[0;36mnetCDF4._netCDF4.Dataset.__getitem__\u001b[1;34m()\u001b[0m\n",
      "\u001b[1;31mIndexError\u001b[0m: elemIndex not found in /"
     ]
    }
   ],
   "source": [
    "sc = SC(subgridControlFilename, GPU=False)\n",
    "sc.readSubgridLookupTableNetCDFForVectorizedStorage()"
   ]
  },
  {
   "cell_type": "code",
   "execution_count": 8,
   "metadata": {},
   "outputs": [
    {
     "data": {
      "text/plain": [
       "3.212393"
      ]
     },
     "execution_count": 8,
     "metadata": {},
     "output_type": "execute_result"
    }
   ],
   "source": [
    "sc.subgridvectorized.surfaceElevations[0]"
   ]
  },
  {
   "cell_type": "code",
   "execution_count": 9,
   "metadata": {},
   "outputs": [
    {
     "data": {
      "text/plain": [
       "23653"
      ]
     },
     "execution_count": 9,
     "metadata": {},
     "output_type": "execute_result"
    }
   ],
   "source": [
    "sc.mesh.numEle"
   ]
  }
 ],
 "metadata": {
  "kernelspec": {
   "display_name": "Python 3.10.5 64-bit",
   "language": "python",
   "name": "python3"
  },
  "language_info": {
   "codemirror_mode": {
    "name": "ipython",
    "version": 3
   },
   "file_extension": ".py",
   "mimetype": "text/x-python",
   "name": "python",
   "nbconvert_exporter": "python",
   "pygments_lexer": "ipython3",
   "version": "3.10.5"
  },
  "orig_nbformat": 4,
  "vscode": {
   "interpreter": {
    "hash": "e08998d5394678daa39250bc09c9f5a0d4bf55ac1ec3c5fe2ed0d500b24b76ca"
   }
  }
 },
 "nbformat": 4,
 "nbformat_minor": 2
}
